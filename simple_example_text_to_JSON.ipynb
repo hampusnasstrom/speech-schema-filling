{
 "cells": [
  {
   "cell_type": "code",
   "execution_count": 9,
   "metadata": {},
   "outputs": [],
   "source": [
    "from langchain_community.llms import Ollama\n",
    "llm = Ollama(model=\"llama3:70b\", base_url = 'http://172.28.105.30/backend', format='json')"
   ]
  },
  {
   "cell_type": "code",
   "execution_count": 10,
   "metadata": {},
   "outputs": [
    {
     "name": "stdout",
     "output_type": "stream",
     "text": [
      "{'properties': {'temperature': {'description': 'The temperature of the solution creation', 'title': 'Temperature', 'type': 'number'}, 'atmosphere': {'description': 'The atmosphere of the solution creation', 'title': 'Atmosphere', 'type': 'string'}, 'method': {'description': 'The method of the solution creation', 'title': 'Method', 'type': 'string'}, 'time': {'description': 'The time needed for the solution creation', 'title': 'Time', 'type': 'number'}, 'solutes': {'description': 'The solutes used in the solution', 'items': {'type': 'string'}, 'title': 'Solutes', 'type': 'array'}, 'solute_masses': {'description': 'The masses in miligramm of the solutes used in the solution', 'items': {'type': 'number'}, 'title': 'Solute Masses', 'type': 'array'}, 'solvents': {'description': 'The solvents used in the solution', 'items': {'type': 'string'}, 'title': 'Solvents', 'type': 'array'}, 'solvent_volumes': {'description': 'The volumes in mililiter of the solvents used in the solution', 'items': {'type': 'number'}, 'title': 'Solvent Volumes', 'type': 'array'}}, 'required': ['temperature', 'atmosphere', 'method', 'time', 'solutes', 'solute_masses', 'solvents', 'solvent_volumes'], 'title': 'Solution', 'type': 'object'}\n"
     ]
    }
   ],
   "source": [
    "from pydantic import BaseModel, Field\n",
    "from typing import List\n",
    "\n",
    "class Solution(BaseModel):\n",
    "    temperature: float = Field(..., description=\"The temperature of the solution creation\")\n",
    "    atmosphere: str = Field(..., description=\"The atmosphere of the solution creation\")\n",
    "    method: str = Field(..., description=\"The method of the solution creation\")\n",
    "    time: float = Field(..., description=\"The time needed for the solution creation\")\n",
    "    solutes: List[str] = Field(..., description=\"The solutes used in the solution\")\n",
    "    solute_masses: List[float] = Field(..., description=\"The masses in miligramm of the solutes used in the solution\")\n",
    "    solvents: List[str] = Field(..., description=\"The solvents used in the solution\")\n",
    "    solvent_volumes: List[float] = Field(...,\n",
    "                                         description=\"The volumes in mililiter of the solvents used in the solution\")\n",
    "\n",
    "schema_solution = Solution.schema()\n",
    "\n",
    "print(schema_solution)\n"
   ]
  },
  {
   "cell_type": "code",
   "execution_count": 11,
   "metadata": {},
   "outputs": [],
   "source": [
    "text = \"Solution Preparation: In this study, we prepared a solution for catalyst synthesis. First, the solutes copper nitrate and zinc chloride were accurately weighed (500.0 mg and 200.0 mg, respectively) using a high-precision balance. The solvents Water and Acetone were then added to the solutes in specific volumes (50.0 mL and 20.0 mL, respectively) in a glass vial. The mixture was stirred for 30 minutes at room temperature (25.0°C) under an inert gas atmosphere to ensure complete dissolution of the solutes. Finally, the solvent was evaporated using a rotary evaporator at reduced pressure, resulting in a solution with the desired composition. This process took approximately 2.5 hours to complete. The prepared solution was then used for further experimentation and analysis.\"\n",
    "\n"
   ]
  },
  {
   "cell_type": "code",
   "execution_count": 12,
   "metadata": {},
   "outputs": [
    {
     "name": "stdout",
     "output_type": "stream",
     "text": [
      "{\n",
      "    \"title\": \"Solution\",\n",
      "    \"type\": \"object\",\n",
      "    \"properties\": {\n",
      "        \"temperature\": {\"description\": \"The temperature of the solution creation\", \"title\": \"Temperature\", \"type\": \"number\", \"value\": 25.0},\n",
      "        \"atmosphere\": {\"description\": \"The atmosphere of the solution creation\", \"title\": \"Atmosphere\", \"type\": \"string\", \"value\": \"inert gas\"},\n",
      "        \"method\": {\"description\": \"The method of the solution creation\", \"title\": \"Method\", \"type\": \"string\", \"value\": \"stirring and evaporation\"},\n",
      "        \"time\": {\"description\": \"The time needed for the solution creation\", \"title\": \"Time\", \"type\": \"number\", \"value\": 2.5},\n",
      "        \"solutes\": {\"description\": \"The solutes used in the solution\", \"title\": \"Solutes\", \"type\": \"array\", \"value\": [\"copper nitrate\", \"zinc chloride\"]},\n",
      "        \"solute_masses\": {\"description\": \"The masses in miligramm of the solutes used in the solution\", \"title\": \"Solute Masses\", \"type\": \"array\", \"value\": [500.0, 200.0]},\n",
      "        \"solvents\": {\"description\": \"The solvents used in the solution\", \"title\": \"Solvents\", \"type\": \"array\", \"value\": [\"Water\", \"Acetone\"]},\n",
      "        \"solvent_volumes\": {\"description\": \"The volumes in mililiter of the solvents used in the solution\", \"title\": \"Solvent Volumes\", \"type\": \"array\", \"value\": [50.0, 20.0]}\n",
      "    },\n",
      "    \"required\": [\"temperature\", \"atmosphere\", \"method\", \"time\", \"solutes\", \"solute_masses\", \"solvents\", \"solvent_volumes\"]\n",
      "} \n",
      "\n",
      " \n",
      " \n",
      "\n",
      " \n",
      "\n",
      " \n",
      "\n",
      " \n",
      "\n",
      " \n",
      "\n",
      " \n",
      "\n",
      " \n",
      "\n",
      " \n",
      "\n",
      " \n",
      "\n",
      " \n",
      "\n",
      " \n",
      "\n",
      " \n",
      "\n",
      " \n",
      "\n",
      " \n",
      "\n",
      " \n",
      "\n",
      " \n",
      "\n",
      " \n",
      "\n",
      " \n",
      "\n",
      " \n",
      "\n",
      " \n",
      "\n",
      " \n",
      "\n",
      " \n",
      "\n",
      " \n",
      "\n",
      " \n",
      "\n",
      " \n",
      "\n",
      " \n",
      "\n",
      " \n",
      "\n",
      " \n",
      "\n",
      " \n",
      "\n",
      "\n"
     ]
    }
   ],
   "source": [
    "message = \"Extract the information of the following text \"+\":\\n\"+text+\"\\n\\n using the following schema:\\n\"+str(schema_solution)+\"\\n Return a JSON object with the extracted information.\" \n",
    "response=llm.invoke(message)\n",
    "\n",
    "print(response)"
   ]
  },
  {
   "cell_type": "code",
   "execution_count": null,
   "metadata": {},
   "outputs": [],
   "source": []
  }
 ],
 "metadata": {
  "kernelspec": {
   "display_name": "llm_llama_env",
   "language": "python",
   "name": "python3"
  },
  "language_info": {
   "codemirror_mode": {
    "name": "ipython",
    "version": 3
   },
   "file_extension": ".py",
   "mimetype": "text/x-python",
   "name": "python",
   "nbconvert_exporter": "python",
   "pygments_lexer": "ipython3",
   "version": "3.11.9"
  }
 },
 "nbformat": 4,
 "nbformat_minor": 2
}
