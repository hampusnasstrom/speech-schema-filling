{
 "cells": [
  {
   "cell_type": "code",
   "execution_count": 1,
   "metadata": {},
   "outputs": [],
   "source": [
    "from langchain_community.llms import Ollama\n",
    "llm = Ollama(model=\"llama3:70b\", base_url = 'http://172.28.105.30/backend')"
   ]
  },
  {
   "cell_type": "code",
   "execution_count": 2,
   "metadata": {},
   "outputs": [],
   "source": [
    "from pydantic import BaseModel, Field\n",
    "from typing import List\n",
    "\n",
    "class Solution(BaseModel):\n",
    "    temperature: float = Field(..., description=\"The temperature of the solution creation\")\n",
    "    atmosphere: str = Field(..., description=\"The atmosphere of the solution creation\")\n",
    "    method: str = Field(..., description=\"The method of the solution creation\")\n",
    "    time: float = Field(..., description=\"The time needed for the solution creation\")\n",
    "    solutes: List[str] = Field(..., description=\"The solutes used in the solution\")\n",
    "    solute_masses: List[float] = Field(..., description=\"The masses in miligramm of the solutes used in the solution\")\n",
    "    solvents: List[str] = Field(..., description=\"The solvents used in the solution\")\n",
    "    solvent_volumes: List[float] = Field(...,\n",
    "                                         description=\"The volumes in mililiter of the solvents used in the solution\")\n",
    "\n",
    "schema_solution = Solution.schema()\n"
   ]
  },
  {
   "cell_type": "code",
   "execution_count": 3,
   "metadata": {},
   "outputs": [],
   "source": [
    "text = \"Solution Preparation: In this study, we prepared a solution for catalyst synthesis. First, the solutes copper nitrate and zinc chloride were accurately weighed (500.0 mg and 200.0 mg, respectively) using a high-precision balance. The solvents Water and Acetone were then added to the solutes in specific volumes (50.0 mL and 20.0 mL, respectively) in a glass vial. The mixture was stirred for 30 minutes at room temperature (25.0°C) under an inert gas atmosphere to ensure complete dissolution of the solutes. Finally, the solvent was evaporated using a rotary evaporator at reduced pressure, resulting in a solution with the desired composition. This process took approximately 2.5 hours to complete. The prepared solution was then used for further experimentation and analysis.\"\n",
    "\n"
   ]
  },
  {
   "cell_type": "code",
   "execution_count": 4,
   "metadata": {},
   "outputs": [
    {
     "data": {
      "text/plain": [
       "'Here is the extracted information in JSON format according to the provided schema:\\n\\n```\\n{\\n  \"temperature\": 25.0,\\n  \"atmosphere\": \"inert gas\",\\n  \"method\": \"stirring and evaporation\",\\n  \"time\": 2.5,\\n  \"solutes\": [\\n    \"copper nitrate\",\\n    \"zinc chloride\"\\n  ],\\n  \"solute_masses\": [\\n    500.0,\\n    200.0\\n  ],\\n  \"solvents\": [\\n    \"Water\",\\n    \"Acetone\"\\n  ],\\n  \"solvent_volumes\": [\\n    50.0,\\n    20.0\\n  ]\\n}\\n```\\n\\nNote that I had to make some assumptions about the method of solution creation, as it was not explicitly stated in the text.'"
      ]
     },
     "execution_count": 4,
     "metadata": {},
     "output_type": "execute_result"
    }
   ],
   "source": [
    "message = \"Extract the information of the following text into a JSON object with the schema\"+str(schema_solution)+\":\\n\"+text\n",
    "llm.invoke(message)"
   ]
  },
  {
   "cell_type": "code",
   "execution_count": null,
   "metadata": {},
   "outputs": [],
   "source": []
  }
 ],
 "metadata": {
  "kernelspec": {
   "display_name": "llm_llama_env",
   "language": "python",
   "name": "python3"
  },
  "language_info": {
   "codemirror_mode": {
    "name": "ipython",
    "version": 3
   },
   "file_extension": ".py",
   "mimetype": "text/x-python",
   "name": "python",
   "nbconvert_exporter": "python",
   "pygments_lexer": "ipython3",
   "version": "3.11.9"
  }
 },
 "nbformat": 4,
 "nbformat_minor": 2
}
