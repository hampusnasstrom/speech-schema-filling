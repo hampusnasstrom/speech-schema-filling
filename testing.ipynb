{
 "cells": [
  {
   "cell_type": "markdown",
   "metadata": {},
   "source": [
    "Example from: [https://python.langchain.com/docs/integrations/chat/ollama_functions/](https://python.langchain.com/docs/integrations/chat/ollama_functions/)"
   ]
  },
  {
   "cell_type": "code",
   "execution_count": 1,
   "metadata": {},
   "outputs": [],
   "source": [
    "import json\n",
    "from langchain_experimental.llms.ollama_functions import OllamaFunctions\n",
    "from langchain_core.prompts import PromptTemplate\n",
    "from langchain_core.pydantic_v1 import BaseModel, Field\n",
    "from langchain_core.messages import HumanMessage\n",
    "from typing import List\n",
    "\n",
    "model = OllamaFunctions(model=\"llama3:70b\", base_url='http://172.28.105.30/backend', format='json')"
   ]
  },
  {
   "cell_type": "code",
   "execution_count": 2,
   "metadata": {},
   "outputs": [],
   "source": [
    "class Solution(BaseModel):\n",
    "    temperature: float = Field(\n",
    "        ..., description=\"The temperature of the solution creation\")\n",
    "    atmosphere: str = Field(\n",
    "        ..., description=\"The atmosphere of the solution creation\")\n",
    "    method: str = Field(\n",
    "        ..., description=\"The method of the solution creation\")\n",
    "    time: float = Field(\n",
    "        ..., description=\"The time needed for the solution creation\")\n",
    "    solutes: List[str] = Field(\n",
    "        ..., description=\"The solutes used in the solution\")\n",
    "    solute_masses: List[float] = Field(\n",
    "        ..., description=\"The masses in miligramm of the solutes used in the solution\")\n",
    "    solvents: List[str] = Field(\n",
    "        ..., description=\"The solvents used in the solution\")\n",
    "    solvent_volumes: List[float] = Field(\n",
    "        ..., description=\"The volumes in mililiter of the solvents used in the solution\")\n",
    "    \n",
    "class Scaling(BaseModel):\n",
    "    powder: str = Field(\n",
    "        ..., description=\"The name of the powder to be scaled\")\n",
    "    mass: float = Field(\n",
    "        ..., description=\"The scaled mass of the powder\")\n"
   ]
  },
  {
   "cell_type": "code",
   "execution_count": 3,
   "metadata": {},
   "outputs": [],
   "source": [
    "test_msg = \"Please create a solution of 2mg lead iodide as a solute and 100 ml ethanol as a solvent. The solution is produced at 25 degree celsius stirred for 15 minutes.\"\n",
    "unclear_msg = \"Please create a polyjuice potion.\"\n",
    "scaling_msg = \"Please create a scaling entry for 5mg of lead iodide.\""
   ]
  },
  {
   "cell_type": "code",
   "execution_count": 4,
   "metadata": {},
   "outputs": [],
   "source": [
    "# Prompt template\n",
    "prompt = PromptTemplate.from_template(\n",
    "    \"\"\"\n",
    "you should extract the information form the following text and create a structured output.\n",
    "If information is missing you should fill it with null.\n",
    "If something is unclear you should ask for clarification.\n",
    "\n",
    "Human: {question}\n",
    "AI:\n",
    "\"\"\"\n",
    ")\n"
   ]
  },
  {
   "cell_type": "code",
   "execution_count": 5,
   "metadata": {},
   "outputs": [],
   "source": [
    "model = model.bind_tools(\n",
    "    tools=[\n",
    "        {\n",
    "            \"name\": \"solution_preparation\",\n",
    "            \"description\": \"Schema for solution preparation\",\n",
    "            \"parameters\": Solution.schema(),\n",
    "        },\n",
    "        {\n",
    "            \"name\": \"powder_scaling\",\n",
    "            \"description\": \"Schema for powder scaling\",\n",
    "            \"parameters\": Scaling.schema(),\n",
    "        }\n",
    "    ],\n",
    ")"
   ]
  },
  {
   "cell_type": "code",
   "execution_count": 6,
   "metadata": {},
   "outputs": [],
   "source": [
    "chain_with_tools = prompt | model"
   ]
  },
  {
   "cell_type": "code",
   "execution_count": 14,
   "metadata": {},
   "outputs": [
    {
     "name": "stdout",
     "output_type": "stream",
     "text": [
      "Asking: \"Please create a solution of 2mg lead iodide as a solute and 100 ml ethanol as a solvent. The solution is produced at 25 degree celsius stirred for 15 minutes.\"\n",
      "Schema used: solution_preparation\n",
      "Created instance:\n",
      "{\n",
      "  \"temperature\": 25,\n",
      "  \"atmosphere\": null,\n",
      "  \"method\": \"stirred\",\n",
      "  \"time\": 15,\n",
      "  \"solutes\": [\n",
      "    \"lead iodide\"\n",
      "  ],\n",
      "  \"solute_masses\": [\n",
      "    2\n",
      "  ],\n",
      "  \"solvents\": [\n",
      "    \"ethanol\"\n",
      "  ],\n",
      "  \"solvent_volumes\": [\n",
      "    100\n",
      "  ]\n",
      "}\n"
     ]
    }
   ],
   "source": [
    "print(f'Asking: \"{test_msg}\"')\n",
    "response_test = chain_with_tools.invoke(test_msg)\n",
    "schema = response_test.additional_kwargs['function_call']['name']\n",
    "instance = json.loads(response_test.additional_kwargs['function_call']['arguments'])\n",
    "print(f'Schema used: {schema}')\n",
    "print('Created instance:')\n",
    "print(json.dumps(instance, indent=2))"
   ]
  },
  {
   "cell_type": "code",
   "execution_count": 16,
   "metadata": {},
   "outputs": [
    {
     "name": "stdout",
     "output_type": "stream",
     "text": [
      "Asking: \"Please create a scaling entry for 5mg of lead iodide.\"\n",
      "Schema used: powder_scaling\n",
      "Created instance:\n",
      "{\n",
      "  \"powder\": \"lead iodide\",\n",
      "  \"mass\": 5\n",
      "}\n"
     ]
    }
   ],
   "source": [
    "print(f'Asking: \"{scaling_msg}\"')\n",
    "response_scaling = chain_with_tools.invoke(scaling_msg)\n",
    "schema = response_scaling.additional_kwargs['function_call']['name']\n",
    "instance = json.loads(response_scaling.additional_kwargs['function_call']['arguments'])\n",
    "print(f'Schema used: {schema}')\n",
    "print('Created instance:')\n",
    "print(json.dumps(instance, indent=2))"
   ]
  }
 ],
 "metadata": {
  "kernelspec": {
   "display_name": ".env",
   "language": "python",
   "name": "python3"
  },
  "language_info": {
   "codemirror_mode": {
    "name": "ipython",
    "version": 3
   },
   "file_extension": ".py",
   "mimetype": "text/x-python",
   "name": "python",
   "nbconvert_exporter": "python",
   "pygments_lexer": "ipython3",
   "version": "3.11.6"
  }
 },
 "nbformat": 4,
 "nbformat_minor": 2
}
