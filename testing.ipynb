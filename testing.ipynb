{
 "cells": [
  {
   "cell_type": "markdown",
   "metadata": {},
   "source": [
    "Example from: [https://python.langchain.com/docs/integrations/chat/ollama_functions/](https://python.langchain.com/docs/integrations/chat/ollama_functions/)"
   ]
  },
  {
   "cell_type": "code",
   "execution_count": 1,
   "metadata": {},
   "outputs": [],
   "source": [
    "from langchain_experimental.llms.ollama_functions import OllamaFunctions\n",
    "from langchain_core.prompts import PromptTemplate\n",
    "from langchain_core.pydantic_v1 import BaseModel, Field\n",
    "from typing import List\n",
    "\n",
    "model = OllamaFunctions(model=\"llama3:70b\", base_url='http://172.28.105.30/backend', format='json')"
   ]
  },
  {
   "cell_type": "code",
   "execution_count": 2,
   "metadata": {},
   "outputs": [],
   "source": [
    "class Solution(BaseModel):\n",
    "    temperature: float = Field(\n",
    "        ..., description=\"The temperature of the solution creation\")\n",
    "    atmosphere: str = Field(\n",
    "        ..., description=\"The atmosphere of the solution creation\")\n",
    "    method: str = Field(\n",
    "        ..., description=\"The method of the solution creation\")\n",
    "    time: float = Field(\n",
    "        ..., description=\"The time needed for the solution creation\")\n",
    "    solutes: List[str] = Field(\n",
    "        ..., description=\"The solutes used in the solution\")\n",
    "    solute_masses: List[float] = Field(\n",
    "        ..., description=\"The masses in miligramm of the solutes used in the solution\")\n",
    "    solvents: List[str] = Field(\n",
    "        ..., description=\"The solvents used in the solution\")\n",
    "    solvent_volumes: List[float] = Field(\n",
    "        ..., description=\"The volumes in mililiter of the solvents used in the solution\")\n"
   ]
  },
  {
   "cell_type": "code",
   "execution_count": 5,
   "metadata": {},
   "outputs": [],
   "source": [
    "# Prompt template\n",
    "prompt = PromptTemplate.from_template(\n",
    "    \"\"\"you should extract the information form the following text and create a structured output. If information is missing you should fill it with \"None\".\n",
    "\n",
    "Human: {question}\n",
    "AI: \"\"\"\n",
    ")\n",
    "\n",
    "# Chain\n",
    "structured_llm = model.with_structured_output(Solution)\n",
    "chain = prompt | structured_llm\n"
   ]
  },
  {
   "cell_type": "code",
   "execution_count": 6,
   "metadata": {},
   "outputs": [
    {
     "data": {
      "text/plain": [
       "Solution(temperature=25.0, atmosphere='None', method='stirred', time=15.0, solutes=['lead iodide'], solute_masses=[2.0], solvents=['ethanol'], solvent_volumes=[100.0])"
      ]
     },
     "execution_count": 6,
     "metadata": {},
     "output_type": "execute_result"
    }
   ],
   "source": [
    "prep = chain.invoke(\"Please create a solution of 2mg lead iodide as a solute and 100 ml ethanol as a solvent. The solution is produced at 25 degree celsius stirred for 15 minutes.\")\n",
    "prep"
   ]
  }
 ],
 "metadata": {
  "kernelspec": {
   "display_name": ".env",
   "language": "python",
   "name": "python3"
  },
  "language_info": {
   "codemirror_mode": {
    "name": "ipython",
    "version": 3
   },
   "file_extension": ".py",
   "mimetype": "text/x-python",
   "name": "python",
   "nbconvert_exporter": "python",
   "pygments_lexer": "ipython3",
   "version": "3.11.6"
  }
 },
 "nbformat": 4,
 "nbformat_minor": 2
}
